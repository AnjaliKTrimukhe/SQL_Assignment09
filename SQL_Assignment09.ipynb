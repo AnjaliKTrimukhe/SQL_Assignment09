{
 "cells": [
  {
   "cell_type": "markdown",
   "id": "44ed26aa",
   "metadata": {},
   "source": [
    "Q-17. Write an SQL query to show the top n (say 10) records of a table.\n",
    "Ans:\n",
    "SELECT *\n",
    "FROM Worker\n",
    "ORDER BY Salary DESC\n",
    "LIMIT 10;"
   ]
  },
  {
   "cell_type": "markdown",
   "id": "eda34607",
   "metadata": {},
   "source": [
    "Q-18. Write an SQL query to determine the nth (say n=5) highest salary from a table.\n",
    "Ans:\n",
    "SELECT Salary\n",
    "FROM Worker\n",
    "ORDER BY Salary DESC\n",
    "LIMIT n-1, 1;"
   ]
  }
 ],
 "metadata": {
  "kernelspec": {
   "display_name": "Python 3 (ipykernel)",
   "language": "python",
   "name": "python3"
  },
  "language_info": {
   "codemirror_mode": {
    "name": "ipython",
    "version": 3
   },
   "file_extension": ".py",
   "mimetype": "text/x-python",
   "name": "python",
   "nbconvert_exporter": "python",
   "pygments_lexer": "ipython3",
   "version": "3.9.7"
  }
 },
 "nbformat": 4,
 "nbformat_minor": 5
}
